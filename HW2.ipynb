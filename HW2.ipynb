{
 "cells": [
  {
   "cell_type": "markdown",
   "metadata": {},
   "source": [
    "## Tabular Data Homework"
   ]
  },
  {
   "cell_type": "code",
   "execution_count": 1,
   "metadata": {},
   "outputs": [],
   "source": [
    "import os\n",
    "import numpy"
   ]
  },
  {
   "cell_type": "code",
   "execution_count": 10,
   "metadata": {},
   "outputs": [
    {
     "name": "stdout",
     "output_type": "stream",
     "text": [
      "[['O' '0.000000' '-0.007156' '0.965491']\n",
      " ['H1' '-0.000000' '0.001486' '-0.003471']\n",
      " ['H2' '0.000000' '0.931026' '1.207929']]\n"
     ]
    }
   ],
   "source": [
    "water_file = os.path.join('data','water.xyz')\n",
    "outlist = numpy.genfromtxt(fname = water_file, skip_header = 2, dtype = 'unicode')\n",
    "print(outlist)"
   ]
  },
  {
   "cell_type": "code",
   "execution_count": 11,
   "metadata": {},
   "outputs": [
    {
     "name": "stdout",
     "output_type": "stream",
     "text": [
      "['O' 'H1' 'H2']\n"
     ]
    }
   ],
   "source": [
    "atoms = outlist[:,0]\n",
    "print(atoms)"
   ]
  },
  {
   "cell_type": "code",
   "execution_count": 12,
   "metadata": {},
   "outputs": [
    {
     "name": "stdout",
     "output_type": "stream",
     "text": [
      "[['0.000000' '-0.007156' '0.965491']\n",
      " ['-0.000000' '0.001486' '-0.003471']\n",
      " ['0.000000' '0.931026' '1.207929']]\n"
     ]
    }
   ],
   "source": [
    "coords = outlist [:, 1:]\n",
    "print(coords)"
   ]
  },
  {
   "cell_type": "code",
   "execution_count": 13,
   "metadata": {},
   "outputs": [
    {
     "name": "stdout",
     "output_type": "stream",
     "text": [
      "[[ 0.       -0.007156  0.965491]\n",
      " [-0.        0.001486 -0.003471]\n",
      " [ 0.        0.931026  1.207929]]\n"
     ]
    }
   ],
   "source": [
    "coords = coords.astype(numpy.float)\n",
    "print(coords)"
   ]
  },
  {
   "cell_type": "code",
   "execution_count": 14,
   "metadata": {},
   "outputs": [
    {
     "name": "stdout",
     "output_type": "stream",
     "text": [
      "O to O : 0.000\n",
      "O to H1 : 0.969\n",
      "O to H2 : 0.969\n",
      "H1 to O : 0.969\n",
      "H1 to H1 : 0.000\n",
      "H1 to H2 : 1.527\n",
      "H2 to O : 0.969\n",
      "H2 to H1 : 1.527\n",
      "H2 to H2 : 0.000\n"
     ]
    }
   ],
   "source": [
    "num_atoms = len(atoms)\n",
    "for i in range (0, num_atoms):\n",
    "    for j in range (0, num_atoms):\n",
    "        x_length = coords[i,0]-coords[j,0]\n",
    "        y_length = coords[i,1]-coords[j,1]\n",
    "        z_length = coords[i,2]-coords[j,2]\n",
    "        bond_length = numpy.sqrt(x_length**2+y_length**2+z_length**2)\n",
    "        print(F'{atoms[i]} to {atoms[j]} : {bond_length:.3f}')\n",
    "        "
   ]
  },
  {
   "cell_type": "code",
   "execution_count": null,
   "metadata": {},
   "outputs": [],
   "source": []
  }
 ],
 "metadata": {
  "kernelspec": {
   "display_name": "Python 3",
   "language": "python",
   "name": "python3"
  },
  "language_info": {
   "codemirror_mode": {
    "name": "ipython",
    "version": 3
   },
   "file_extension": ".py",
   "mimetype": "text/x-python",
   "name": "python",
   "nbconvert_exporter": "python",
   "pygments_lexer": "ipython3",
   "version": "3.7.6"
  }
 },
 "nbformat": 4,
 "nbformat_minor": 4
}
