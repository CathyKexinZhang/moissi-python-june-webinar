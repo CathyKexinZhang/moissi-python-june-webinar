{
 "cells": [
  {
   "cell_type": "markdown",
   "metadata": {},
   "source": [
    "## Funtion Homework"
   ]
  },
  {
   "cell_type": "code",
   "execution_count": 1,
   "metadata": {},
   "outputs": [
    {
     "name": "stderr",
     "output_type": "stream",
     "text": [
      "usage: This script parses amber mdout files to extract the total energy.\n",
      "       [-h] path\n",
      "This script parses amber mdout files to extract the total energy.: error: unrecognized arguments: -f\n"
     ]
    },
    {
     "ename": "SystemExit",
     "evalue": "2",
     "output_type": "error",
     "traceback": [
      "An exception has occurred, use %tb to see the full traceback.\n",
      "\u001b[0;31mSystemExit\u001b[0m\u001b[0;31m:\u001b[0m 2\n"
     ]
    },
    {
     "name": "stderr",
     "output_type": "stream",
     "text": [
      "/opt/anaconda3/lib/python3.7/site-packages/IPython/core/interactiveshell.py:3339: UserWarning: To exit: use 'exit', 'quit', or Ctrl-D.\n",
      "  warn(\"To exit: use 'exit', 'quit', or Ctrl-D.\", stacklevel=1)\n"
     ]
    }
   ],
   "source": [
    "import os\n",
    "import glob\n",
    "import argparse\n",
    "\n",
    "\n",
    "if __name__ == \"__main__\":\n",
    "\n",
    "    # Create the argument parser\n",
    "    parser = argparse.ArgumentParser(\"This script parses amber mdout files to extract the total energy.\")\n",
    "    parser.add_argument(\"path\", help=\"The filepath to the file(s) to be analyzed.\", type=str)\n",
    "\n",
    "    args = parser.parse_args()\n",
    "    filename = args.path\n",
    "\n",
    "    # Read the data from the specified file.\n",
    "    f = open(filename)\n",
    "    data = f.readlines()\n",
    "    f.close()\n",
    "\n",
    "    # Figure out the file name for writing the output.\n",
    "    fname = os.path.basename(args.path).split('.')[0]\n",
    "\n",
    "    etot = []\n",
    "    # Loop through the lines\n",
    "    for line in data:\n",
    "        split_line = line.split()\n",
    "        if 'Etot' in line:\n",
    "            etot.append(float(split_line[2]))\n",
    "\n",
    "    # Get rid of values we don't need.\n",
    "    values = etot[:-2]\n",
    "    \n",
    "    # Open a file for writing\n",
    "    outfile_location = F'{fname}_Etot.txt'\n",
    "    outfile = open(outfile_location, 'w+')\n",
    "\n",
    "    for value in values:\n",
    "        outfile.write(f'{value}\\n')\n",
    "\n",
    "    outfile.close()"
   ]
  },
  {
   "cell_type": "code",
   "execution_count": null,
   "metadata": {},
   "outputs": [],
   "source": []
  }
 ],
 "metadata": {
  "kernelspec": {
   "display_name": "Python 3",
   "language": "python",
   "name": "python3"
  },
  "language_info": {
   "codemirror_mode": {
    "name": "ipython",
    "version": 3
   },
   "file_extension": ".py",
   "mimetype": "text/x-python",
   "name": "python",
   "nbconvert_exporter": "python",
   "pygments_lexer": "ipython3",
   "version": "3.7.6"
  }
 },
 "nbformat": 4,
 "nbformat_minor": 4
}
